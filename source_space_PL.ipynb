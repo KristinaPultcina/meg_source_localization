{
 "cells": [
  {
   "cell_type": "code",
   "execution_count": 31,
   "metadata": {},
   "outputs": [],
   "source": [
    "import os\n",
    "import os.path as op\n",
    "import numpy as np\n",
    "import mne\n",
    "from mne.preprocessing import ICA, create_eog_epochs\n",
    "from mne import io, combine_evoked\n",
    "from mne.minimum_norm import make_inverse_operator, apply_inverse\n",
    "from mne.minimum_norm import read_inverse_operator, make_inverse_operator,source_band_induced_power\n",
    "mne.set_log_level('warning')\n",
    "#mne.viz.set_3d_backend('pyvista')\n",
    "import matplotlib\n",
    "matplotlib.use('Qt5Agg')\n",
    "import matplotlib.pyplot as plt\n",
    "from matplotlib import animation\n",
    "import numpy as np\n",
    "from mne import set_config\n",
    "import pandas as pd\n",
    "from scipy import stats"
   ]
  },
  {
   "cell_type": "code",
   "execution_count": 32,
   "metadata": {},
   "outputs": [],
   "source": [
    "# This code sets an environment variable called SUBJECTS_DIR\n",
    "os.environ['SUBJECTS_DIR'] = '/net/server/data/Archive/prob_learn/freesurfer'\n",
    "subjects_dir = '/net/server/data/Archive/prob_learn/freesurfer'"
   ]
  },
  {
   "cell_type": "code",
   "execution_count": 33,
   "metadata": {},
   "outputs": [],
   "source": [
    "# Испытуемый выбран рандомно, просто в качестве примера \n",
    "subject='P001'"
   ]
  },
  {
   "cell_type": "code",
   "execution_count": 34,
   "metadata": {},
   "outputs": [
    {
     "name": "stderr",
     "output_type": "stream",
     "text": [
      "<ipython-input-34-fda92aeca6ac>:3: RuntimeWarning: This filename (/net/server/mnt/Archive/prob_learn/experiment/P001/161228/ORIGINAL_TSSS/P001_run2_raw_tsss_mc.fif) does not conform to MNE naming conventions. All raw files should end with raw.fif, raw_sss.fif, raw_tsss.fif, raw.fif.gz, raw_sss.fif.gz, raw_tsss.fif.gz or _meg.fif\n",
      "  raw = mne.io.read_raw_fif(raw_fname, preload=True)\n"
     ]
    }
   ],
   "source": [
    "# the raw file containing the channel location + types\n",
    "raw_fname = '/net/server/mnt/Archive/prob_learn/experiment/P001/161228/ORIGINAL_TSSS/P001_run2_raw_tsss_mc.fif'\n",
    "raw = mne.io.read_raw_fif(raw_fname, preload=True) "
   ]
  },
  {
   "cell_type": "code",
   "execution_count": 35,
   "metadata": {},
   "outputs": [],
   "source": [
    "# Берем в качестве примера norisk, fb current = negative\n",
    "events = np.loadtxt('/net/server/data/Archive/prob_learn/vtretyakova/Nikita_mio_cleaned/events_by_cond_mio_corrected/P001_run2_norisk_fb_cur_negative.txt', dtype='int')"
   ]
  },
  {
   "cell_type": "code",
   "execution_count": 36,
   "metadata": {},
   "outputs": [
    {
     "name": "stdout",
     "output_type": "stream",
     "text": [
      "<Info | 16 non-empty values\n",
      " acq_pars: ACQch001 110113 ACQch002 110112 ACQch003 110111 ACQch004 110122 ...\n",
      " bads: []\n",
      " ch_names: MEG0113, MEG0112, MEG0111, MEG0122, MEG0123, MEG0121, MEG0132, ...\n",
      " chs: 204 GRAD, 102 MAG, 7 EMG, 1 ECG, 15 MISC, 3 STIM, 9 CHPI\n",
      " custom_ref_applied: False\n",
      " dev_head_t: MEG device -> head transform\n",
      " dig: 163 items (3 Cardinal, 4 HPI, 156 Extra)\n",
      " file_id: 4 items (dict)\n",
      " highpass: 0.1 Hz\n",
      " hpi_meas: 1 item (list)\n",
      " hpi_results: 1 item (list)\n",
      " lowpass: 330.0 Hz\n",
      " meas_date: 2016-12-28 09:46:14 UTC\n",
      " meas_id: 4 items (dict)\n",
      " nchan: 341\n",
      " proc_history: 1 item (list)\n",
      " projs: []\n",
      " sfreq: 1000.0 Hz\n",
      " subject_info: 6 items (dict)\n",
      ">\n"
     ]
    }
   ],
   "source": [
    "period_start = -1.750\n",
    "period_end = 2.750\n",
    "\n",
    "# by default tmin=- 0.2, tmax=0.5\n",
    "epochs = mne.Epochs(raw = raw, events = events, event_id=None, tmin = period_start, tmax = period_end, preload = True)\n",
    "evoked = epochs.average()\n",
    "print(epochs.info)"
   ]
  },
  {
   "cell_type": "code",
   "execution_count": 40,
   "metadata": {},
   "outputs": [],
   "source": [
    "conductivity = [0.3] # for single layer\n",
    "model = mne.make_bem_model(subject=subject, ico=4, conductivity= conductivity, subjects_dir=subjects_dir, verbose=None)\n",
    "\n",
    "bem = mne.make_bem_solution(model)"
   ]
  },
  {
   "cell_type": "code",
   "execution_count": 41,
   "metadata": {},
   "outputs": [],
   "source": [
    "mne.write_bem_solution('/home/pultsinak/Рабочий стол/test_bem.h5', bem, overwrite=True, verbose=None)"
   ]
  },
  {
   "cell_type": "code",
   "execution_count": 42,
   "metadata": {},
   "outputs": [
    {
     "ename": "FileNotFoundError",
     "evalue": "fname \"/home/pultsinak/Рабочий стол/Sources/test_bem.h5\" does not exist",
     "output_type": "error",
     "traceback": [
      "\u001b[0;31m---------------------------------------------------------------------------\u001b[0m",
      "\u001b[0;31mFileNotFoundError\u001b[0m                         Traceback (most recent call last)",
      "\u001b[0;32m<ipython-input-42-ee76472eae4b>\u001b[0m in \u001b[0;36m<module>\u001b[0;34m\u001b[0m\n\u001b[0;32m----> 1\u001b[0;31m \u001b[0mbem\u001b[0m \u001b[0;34m=\u001b[0m \u001b[0mmne\u001b[0m\u001b[0;34m.\u001b[0m\u001b[0mread_bem_solution\u001b[0m\u001b[0;34m(\u001b[0m\u001b[0;34m'/home/pultsinak/Рабочий стол/Sources/test_bem.h5'\u001b[0m\u001b[0;34m,\u001b[0m \u001b[0mverbose\u001b[0m\u001b[0;34m=\u001b[0m\u001b[0;32mNone\u001b[0m\u001b[0;34m)\u001b[0m\u001b[0;34m\u001b[0m\u001b[0;34m\u001b[0m\u001b[0m\n\u001b[0m",
      "\u001b[0;32m<decorator-gen-99>\u001b[0m in \u001b[0;36mread_bem_solution\u001b[0;34m(fname, verbose)\u001b[0m\n",
      "\u001b[0;32m/opt/anaconda3/envs/py37/lib/python3.7/site-packages/mne/bem.py\u001b[0m in \u001b[0;36mread_bem_solution\u001b[0;34m(fname, verbose)\u001b[0m\n\u001b[1;32m   1412\u001b[0m     \u001b[0mwrite_bem_solution\u001b[0m\u001b[0;34m\u001b[0m\u001b[0;34m\u001b[0m\u001b[0m\n\u001b[1;32m   1413\u001b[0m     \"\"\"\n\u001b[0;32m-> 1414\u001b[0;31m     \u001b[0mfname\u001b[0m \u001b[0;34m=\u001b[0m \u001b[0m_check_fname\u001b[0m\u001b[0;34m(\u001b[0m\u001b[0mfname\u001b[0m\u001b[0;34m,\u001b[0m \u001b[0;34m'read'\u001b[0m\u001b[0;34m,\u001b[0m \u001b[0;32mTrue\u001b[0m\u001b[0;34m,\u001b[0m \u001b[0;34m'fname'\u001b[0m\u001b[0;34m)\u001b[0m\u001b[0;34m\u001b[0m\u001b[0;34m\u001b[0m\u001b[0m\n\u001b[0m\u001b[1;32m   1415\u001b[0m     \u001b[0;31m# mirrors fwd_bem_load_surfaces from fwd_bem_model.c\u001b[0m\u001b[0;34m\u001b[0m\u001b[0;34m\u001b[0m\u001b[0;34m\u001b[0m\u001b[0m\n\u001b[1;32m   1416\u001b[0m     \u001b[0;32mif\u001b[0m \u001b[0mfname\u001b[0m\u001b[0;34m.\u001b[0m\u001b[0mendswith\u001b[0m\u001b[0;34m(\u001b[0m\u001b[0;34m'.h5'\u001b[0m\u001b[0;34m)\u001b[0m\u001b[0;34m:\u001b[0m\u001b[0;34m\u001b[0m\u001b[0;34m\u001b[0m\u001b[0m\n",
      "\u001b[0;32m/opt/anaconda3/envs/py37/lib/python3.7/site-packages/mne/utils/check.py\u001b[0m in \u001b[0;36m_check_fname\u001b[0;34m(fname, overwrite, must_exist, name, allow_dir)\u001b[0m\n\u001b[1;32m    163\u001b[0m                 '%s does not have read permissions: %s' % (name, fname))\n\u001b[1;32m    164\u001b[0m     \u001b[0;32melif\u001b[0m \u001b[0mmust_exist\u001b[0m\u001b[0;34m:\u001b[0m\u001b[0;34m\u001b[0m\u001b[0;34m\u001b[0m\u001b[0m\n\u001b[0;32m--> 165\u001b[0;31m         \u001b[0;32mraise\u001b[0m \u001b[0mFileNotFoundError\u001b[0m\u001b[0;34m(\u001b[0m\u001b[0;34m'%s \"%s\" does not exist'\u001b[0m \u001b[0;34m%\u001b[0m \u001b[0;34m(\u001b[0m\u001b[0mname\u001b[0m\u001b[0;34m,\u001b[0m \u001b[0mfname\u001b[0m\u001b[0;34m)\u001b[0m\u001b[0;34m)\u001b[0m\u001b[0;34m\u001b[0m\u001b[0;34m\u001b[0m\u001b[0m\n\u001b[0m\u001b[1;32m    166\u001b[0m     \u001b[0;32mreturn\u001b[0m \u001b[0mstr\u001b[0m\u001b[0;34m(\u001b[0m\u001b[0mfname\u001b[0m\u001b[0;34m)\u001b[0m\u001b[0;34m\u001b[0m\u001b[0;34m\u001b[0m\u001b[0m\n\u001b[1;32m    167\u001b[0m \u001b[0;34m\u001b[0m\u001b[0m\n",
      "\u001b[0;31mFileNotFoundError\u001b[0m: fname \"/home/pultsinak/Рабочий стол/Sources/test_bem.h5\" does not exist"
     ]
    }
   ],
   "source": [
    "bem = mne.read_bem_solution('/home/pultsinak/Рабочий стол/Sources/test_bem.h5', verbose=None)"
   ]
  },
  {
   "cell_type": "code",
   "execution_count": 43,
   "metadata": {},
   "outputs": [
    {
     "data": {
      "text/plain": [
       "<Figure size 780x706.5 with 12 Axes>"
      ]
     },
     "execution_count": 43,
     "metadata": {},
     "output_type": "execute_result"
    }
   ],
   "source": [
    "mne.viz.plot_bem(subject, subjects_dir, brain_surfaces='white', orientation='coronal')"
   ]
  },
  {
   "cell_type": "code",
   "execution_count": 44,
   "metadata": {},
   "outputs": [],
   "source": [
    "fig = mne.viz.plot_bem(subject, subjects_dir, brain_surfaces='white', orientation='coronal', show = False)"
   ]
  },
  {
   "cell_type": "code",
   "execution_count": 45,
   "metadata": {},
   "outputs": [],
   "source": [
    "src = mne.setup_source_space(subject=subject, add_dist=False )"
   ]
  },
  {
   "cell_type": "code",
   "execution_count": 46,
   "metadata": {},
   "outputs": [
    {
     "data": {
      "text/plain": [
       "<mne.viz.backends._pyvista._Figure at 0x7feb9f062cd0>"
      ]
     },
     "execution_count": 46,
     "metadata": {},
     "output_type": "execute_result"
    }
   ],
   "source": [
    "src.plot()"
   ]
  },
  {
   "cell_type": "code",
   "execution_count": 47,
   "metadata": {},
   "outputs": [],
   "source": [
    "trans = '/net/server/mnt/Archive/prob_learn/freesurfer/P001/mri/T1-neuromag/sets/P001-COR.fif'"
   ]
  },
  {
   "cell_type": "code",
   "execution_count": 48,
   "metadata": {},
   "outputs": [
    {
     "data": {
      "text/plain": [
       "<mne.viz.backends._pyvista._Figure at 0x7feb0c1c5b50>"
      ]
     },
     "execution_count": 48,
     "metadata": {},
     "output_type": "execute_result"
    }
   ],
   "source": [
    "mne.viz.plot_alignment(epochs.info, trans, subject=subject, surfaces=['white', 'outer_skin'])"
   ]
  },
  {
   "cell_type": "code",
   "execution_count": 49,
   "metadata": {},
   "outputs": [],
   "source": [
    "# Forward Model\n",
    "fwd = mne.make_forward_solution(info=epochs.info, trans=trans, src=src, bem=bem)"
   ]
  },
  {
   "cell_type": "code",
   "execution_count": 50,
   "metadata": {},
   "outputs": [],
   "source": [
    "events_neg = np.loadtxt(\"/net/server/data/Archive/prob_learn/vtretyakova/Nikita_mio_cleaned/fix_cross_mio_corr/P001_run2_norisk_fb_cur_negative_fix_cross.txt\", dtype='int')\n",
    "epochs_cov = mne.Epochs(raw = raw, events = events_neg, event_id=None, tmin = -1.0, tmax = 1.0)"
   ]
  },
  {
   "cell_type": "code",
   "execution_count": 51,
   "metadata": {},
   "outputs": [
    {
     "name": "stderr",
     "output_type": "stream",
     "text": [
      "<ipython-input-51-c34ea388393d>:1: RuntimeWarning: Something went wrong in the data-driven estimation of the data rank as it exceeds the theoretical rank from the info (306 > 71). Consider setting rank to \"auto\" or setting it explicitly as an integer.\n",
      "  cov = mne.compute_covariance(epochs=epochs_cov, method='auto', tmin=-0.35, tmax = -0.05)\n"
     ]
    }
   ],
   "source": [
    "cov = mne.compute_covariance(epochs=epochs_cov, method='auto', tmin=-0.35, tmax = -0.05)"
   ]
  },
  {
   "cell_type": "code",
   "execution_count": 52,
   "metadata": {},
   "outputs": [
    {
     "name": "stderr",
     "output_type": "stream",
     "text": [
      "<ipython-input-52-12624a596126>:1: RuntimeWarning: Something went wrong in the data-driven estimation of the data rank as it exceeds the theoretical rank from the info (306 > 71). Consider setting rank to \"auto\" or setting it explicitly as an integer.\n",
      "  inv = mne.minimum_norm.make_inverse_operator(raw.info, fwd, cov, loose=0.2)\n",
      "<ipython-input-52-12624a596126>:1: RuntimeWarning: Something went wrong in the data-driven estimation of the data rank as it exceeds the theoretical rank from the info (306 > 71). Consider setting rank to \"auto\" or setting it explicitly as an integer.\n",
      "  inv = mne.minimum_norm.make_inverse_operator(raw.info, fwd, cov, loose=0.2)\n"
     ]
    }
   ],
   "source": [
    "inv = mne.minimum_norm.make_inverse_operator(raw.info, fwd, cov, loose=0.2) \n"
   ]
  },
  {
   "cell_type": "code",
   "execution_count": 53,
   "metadata": {},
   "outputs": [],
   "source": [
    "stc = mne.minimum_norm.apply_inverse_epochs(epochs, inv, lambda2=1./ 9., pick_ori='normal')"
   ]
  },
  {
   "cell_type": "code",
   "execution_count": 54,
   "metadata": {},
   "outputs": [
    {
     "data": {
      "text/plain": [
       "<mne.viz._brain._brain.Brain at 0x7febd05f0590>"
      ]
     },
     "execution_count": 54,
     "metadata": {},
     "output_type": "execute_result"
    }
   ],
   "source": [
    "stc[0].plot() "
   ]
  },
  {
   "cell_type": "code",
   "execution_count": 55,
   "metadata": {},
   "outputs": [
    {
     "data": {
      "text/plain": [
       "8"
      ]
     },
     "execution_count": 55,
     "metadata": {},
     "output_type": "execute_result"
    }
   ],
   "source": [
    "len(stc)\n"
   ]
  },
  {
   "cell_type": "code",
   "execution_count": 56,
   "metadata": {},
   "outputs": [],
   "source": [
    "morph = mne.compute_source_morph(stc[0], subject_from=subject, subject_to='fsaverage')\n",
    "stc_fsaverage0 = morph.apply(stc[0])"
   ]
  },
  {
   "cell_type": "code",
   "execution_count": 57,
   "metadata": {},
   "outputs": [
    {
     "data": {
      "text/plain": [
       "(20484, 4501)"
      ]
     },
     "execution_count": 57,
     "metadata": {},
     "output_type": "execute_result"
    }
   ],
   "source": [
    "stc_fsaverage0.data.shape"
   ]
  },
  {
   "cell_type": "code",
   "execution_count": 58,
   "metadata": {},
   "outputs": [
    {
     "data": {
      "text/plain": [
       "<SourceEstimate | 20484 vertices, subject : fsaverage, tmin : -1750.0 (ms), tmax : 2750.0 (ms), tstep : 1.0 (ms), data shape : (20484, 4501), ~703.6 MB>"
      ]
     },
     "execution_count": 58,
     "metadata": {},
     "output_type": "execute_result"
    }
   ],
   "source": [
    "stc_fsaverage0"
   ]
  },
  {
   "cell_type": "code",
   "execution_count": 59,
   "metadata": {},
   "outputs": [],
   "source": [
    "snr = 3\n",
    "lambda2 = 1. / snr ** 2\n",
    "\n",
    "stc = mne.minimum_norm.apply_inverse(evoked, inv, lambda2)"
   ]
  },
  {
   "cell_type": "code",
   "execution_count": 60,
   "metadata": {},
   "outputs": [
    {
     "data": {
      "text/plain": [
       "<mne.viz._brain._brain.Brain at 0x7feaed73d890>"
      ]
     },
     "execution_count": 60,
     "metadata": {},
     "output_type": "execute_result"
    }
   ],
   "source": [
    "stc.plot(hemi='both') "
   ]
  },
  {
   "cell_type": "code",
   "execution_count": 61,
   "metadata": {},
   "outputs": [],
   "source": [
    "morph = mne.compute_source_morph(stc, subject_from=subject, subject_to='fsaverage')\n",
    "stc_fsaverage = morph.apply(stc)"
   ]
  },
  {
   "cell_type": "code",
   "execution_count": 62,
   "metadata": {},
   "outputs": [
    {
     "data": {
      "text/plain": [
       "<mne.viz._brain._brain.Brain at 0x7febb0eb1590>"
      ]
     },
     "execution_count": 62,
     "metadata": {},
     "output_type": "execute_result"
    }
   ],
   "source": [
    "stc_fsaverage.plot(hemi='both')\n"
   ]
  },
  {
   "cell_type": "code",
   "execution_count": 2,
   "metadata": {},
   "outputs": [
    {
     "ename": "NameError",
     "evalue": "name 'os' is not defined",
     "output_type": "error",
     "traceback": [
      "\u001b[0;31m---------------------------------------------------------------------------\u001b[0m",
      "\u001b[0;31mNameError\u001b[0m                                 Traceback (most recent call last)",
      "\u001b[0;32m<ipython-input-2-78a34cd06af8>\u001b[0m in \u001b[0;36m<module>\u001b[0;34m\u001b[0m\n\u001b[1;32m     18\u001b[0m \u001b[0;34m\u001b[0m\u001b[0m\n\u001b[1;32m     19\u001b[0m \u001b[0;31m# This code sets an environment variable called SUBJECTS_DIR\u001b[0m\u001b[0;34m\u001b[0m\u001b[0;34m\u001b[0m\u001b[0;34m\u001b[0m\u001b[0m\n\u001b[0;32m---> 20\u001b[0;31m \u001b[0mos\u001b[0m\u001b[0;34m.\u001b[0m\u001b[0menviron\u001b[0m\u001b[0;34m[\u001b[0m\u001b[0;34m'SUBJECTS_DIR'\u001b[0m\u001b[0;34m]\u001b[0m \u001b[0;34m=\u001b[0m \u001b[0;34m'/net/server/data/Archive/prob_learn/freesurfer'\u001b[0m\u001b[0;34m\u001b[0m\u001b[0;34m\u001b[0m\u001b[0m\n\u001b[0m\u001b[1;32m     21\u001b[0m \u001b[0msubjects_dir\u001b[0m \u001b[0;34m=\u001b[0m \u001b[0;34m'/net/server/data/Archive/prob_learn/freesurfer'\u001b[0m\u001b[0;34m\u001b[0m\u001b[0;34m\u001b[0m\u001b[0m\n\u001b[1;32m     22\u001b[0m \u001b[0;34m\u001b[0m\u001b[0m\n",
      "\u001b[0;31mNameError\u001b[0m: name 'os' is not defined"
     ]
    }
   ],
   "source": [
    "\n",
    "L_freq = 16\n",
    "H_freq = 30\n",
    "f_step = 2\n",
    "\n",
    "#time_bandwidth = 4 #(by default = 4)\n",
    "# if delta (1 - 4 Hz) \n",
    "#n_cycles = np.array([1, 1, 1, 2]) # уточнить\n",
    "\n",
    "\n",
    "period_start = -1.750\n",
    "period_end = 2.750\n",
    "\n",
    "baseline = (-0.35, -0.05)\n",
    "\n",
    "freq_range = 'beta_16_30'\n",
    "\n",
    "description = 'STC for risk negative and positive FB'\n",
    "\n",
    "# This code sets an environment variable called SUBJECTS_DIR\n",
    "os.environ['SUBJECTS_DIR'] = '/net/server/data/Archive/prob_learn/freesurfer'\n",
    "subjects_dir = '/net/server/data/Archive/prob_learn/freesurfer'\n",
    "\n",
    "# 40 subjects with all choice types\n",
    "subjects = pd.read_csv('/home/vtretyakova/Рабочий стол/probability_learning/sources/subj_list.csv')['subj_list'].tolist()\n",
    "\n",
    "subjects.remove('P062') #without MRI\n",
    "subjects.remove('P052') # bad segmentation \n",
    "\n",
    "\n",
    "rounds = [1, 2, 3, 4, 5, 6]\n",
    "\n",
    "trial_type = ['risk'] # on this step we'll make stc only for risk positive and negative fb\n",
    "#trial_type = ['norisk', 'prerisk', 'risk', 'postrisk']\n",
    "\n",
    "feedback = ['positive', 'negative']\n",
    "\n",
    "data_path = '/net/server/data/Archive/prob_learn/vtretyakova/ICA_cleaned'\n",
    "os.makedirs('/net/server/data/Archive/prob_learn/vtretyakova/sources/{0}'.format(freq_range), exist_ok = True)\n",
    "os.makedirs('/net/server/data/Archive/prob_learn/vtretyakova/sources/{0}/{0}_stc_fsaverage'.format(freq_range), exist_ok = True)\n",
    "\n",
    "########################## Обязательно делать файл, в котором будет показано какие параметры были заданы, иначе проверить вводные никак нельзя, а это необходимо при возникновении некоторых вопросов ############################################\n",
    "\n",
    "lines = [\"freq_range = {}\".format(freq_range), description, \"L_freq = {}\".format(L_freq), \"H_freq = {}, в питоне последнее число не учитывается, т.е. по факту частота (H_freq -1) \".format(H_freq), \"f_step = {}\".format(f_step), \"period_start = {}\".format(period_start), \"period_end = {}\".format(period_end), \"baseline = {}\".format(baseline)]\n",
    "\n",
    "\n",
    "with open(\"/net/server/data/Archive/prob_learn/vtretyakova/sources/{0}/{0}_stc_fsaverage/config.txt\".format(freq_range), \"w\") as file:\n",
    "    for  line in lines:\n",
    "        file.write(line + '\\n')\n",
    "\n",
    "\n",
    "##############################################################################################################\n",
    "\n",
    "\n",
    "for subj in subjects:\n",
    "    bem = mne.read_bem_solution('/net/server/data/Archive/prob_learn/vtretyakova/sources/bem/{0}_bem.h5'.format(subj), verbose=None)\n",
    "    src = mne.setup_source_space(subject =subj, add_dist=False )\n",
    "    for r in rounds:\n",
    "        for cond in trial_type:\n",
    "            for fb in feedback:\n",
    "                try:\n",
    "                    \n",
    "                    stc_fsaverage = make_freq_stc(subj, r, cond, fb, data_path, L_freq, H_freq, f_step, period_start, period_end, baseline, bem, src)\n",
    "                    stc_fsaverage.save('/net/server/data/Archive/prob_learn/vtretyakova/sources/{0}/{0}_stc_fsaverage/{1}_run{2}_{3}_fb_cur_{4}_{0}_stc'.format(freq_range, subj, r, cond, fb))\n",
    "                except (OSError):\n",
    "                    print('This file not exist')"
   ]
  },
  {
   "cell_type": "code",
   "execution_count": 3,
   "metadata": {},
   "outputs": [],
   "source": [
    "def make_freq_stc(subj, r, cond, fb, data_path, L_freq, H_freq, f_step, period_start, period_end, baseline, bem, src):\n",
    "    \n",
    "    bands = dict(beta=[L_freq, H_freq])\n",
    "    #freqs = np.arange(L_freq, H_freq, f_step)\n",
    "    \n",
    "    #read events\n",
    "\t#events for baseline\n",
    "\t# download marks of positive feedback\n",
    "\t\n",
    "    events_pos = np.loadtxt(\"/net/server/data/Archive/prob_learn/vtretyakova/Nikita_mio_cleaned/fix_cross_mio_corr/{0}_run{1}_norisk_fb_cur_positive_fix_cross.txt\".format(subj, r), dtype='int') \n",
    "    \n",
    "\n",
    "        # если только одна метка, т.е. одна эпоха, то выдается ошибка, поэтому приводим shape к виду (N,3)\n",
    "    if events_pos.shape == (3,):\n",
    "        events_pos = events_pos.reshape(1,3)\n",
    "        \n",
    "    # download marks of negative feedback      \n",
    "    \n",
    "    events_neg = np.loadtxt(\"/net/server/data/Archive/prob_learn/vtretyakova/Nikita_mio_cleaned/fix_cross_mio_corr/{0}_run{1}_norisk_fb_cur_negative_fix_cross.txt\".format(subj, r), dtype='int')\n",
    "    \n",
    "    \n",
    "    # если только одна метка, т.е. одна эпоха, то выдается ошибка, поэтому приводим shape к виду (N,3)\n",
    "    if events_neg.shape == (3,):\n",
    "        events_neg = events_neg.reshape(1,3) \n",
    "    \n",
    "    #объединяем негативные и позитивные фидбеки для получения общего бейзлайна по ним, и сортируем массив, чтобы времена меток шли в порядке возрастания    \n",
    "    events = np.vstack([events_pos, events_neg])\n",
    "    events = np.sort(events, axis = 0) \n",
    "    \n",
    "    #events, which we need\n",
    "    events_response = np.loadtxt('/net/server/data/Archive/prob_learn/vtretyakova/Nikita_mio_cleaned/events_by_cond_mio_corrected/{0}_run{1}_{2}_fb_cur_{3}.txt'.format(subj, r, cond, fb), dtype='int')\n",
    "    # если только одна метка, т.е. одна эпоха, то выдается ошибка, поэтому приводи shape к виду (N,3)\n",
    "    if events_response.shape == (3,):\n",
    "        events_response = events_response.reshape(1,3)\n",
    "    \n",
    "\t           \n",
    "    raw_fname = op.join(data_path, '{0}/run{1}_{0}_raw_ica.fif'.format(subj, r))\n",
    "\n",
    "    raw_data = mne.io.Raw(raw_fname, preload=True)\n",
    "        \n",
    "    \n",
    "    picks = mne.pick_types(raw_data.info, meg = True, eog = True)\n",
    "\t\t    \n",
    "\t# Forward Model\n",
    "    trans = '/net/server/mnt/Archive/prob_learn/freesurfer/{0}/mri/T1-neuromag/sets/{0}-COR.fif'.format(subj)\n",
    "        \n",
    "\t   \t    \n",
    "    #epochs for baseline\n",
    "    # baseline = None, чтобы не вычитался дефолтный бейзлайн\n",
    "    epochs_bl = mne.Epochs(raw_data, events, event_id = None, tmin = -1.0, tmax = 1.0, baseline = None, picks = picks, preload = True)\n",
    "    cov = mne.compute_covariance(epochs=epochs_bl, method='auto', tmin=-0.35, tmax = -0.05)\n",
    "     \n",
    "    epochs_bl.resample(100)\n",
    "    \n",
    "    ####### ДЛЯ ДАННЫХ ##############\n",
    "    # baseline = None, чтобы не вычитался дефолтный бейзлайн\n",
    "epochs = mne.Epochs(raw_data, events_response, event_id = None, tmin = period_start, \n",
    "         tmax = period_end, baseline = None, picks = picks, preload = True)\n",
    "\n",
    "\n",
    "                \n",
    "fwd = mne.make_forward_solution(info=epochs.info, trans=trans, src=src, bem=bem)\t                \n",
    "inv = mne.minimum_norm.make_inverse_operator(raw_data.info, fwd, cov, loose=0.2) \t                \n",
    "epochs.resample(100) \n",
    "    \n",
    "stc_baseline = mne.minimum_norm.source_band_induced_power(epochs_bl.pick('meg'), inv, bands, use_fft=False, df = f_step, n_cycles = 8)[\"beta\"].crop(tmin=baseline[0], tmax=baseline[1], include_tmax=True)\n",
    "    \n",
    "    \n",
    "    #усредняем по времени\n",
    "    b_line  = stc_baseline.data.mean(axis=-1)\n",
    "    \n",
    "    stc = mne.minimum_norm.source_band_induced_power(epochs.pick('meg'), inv, bands, use_fft=False, df = f_step, n_cycles = 8)[\"beta\"]\n",
    "    \n",
    "    stc.data = 10*np.log10(stc.data/b_line[:, np.newaxis])\n",
    "    \n",
    "    morph = mne.compute_source_morph(stc, subject_from=subj, subject_to='fsaverage')\n",
    "    stc_fsaverage = morph.apply(stc)\n",
    "\n",
    "    return (stc_fsaverage)   "
   ]
  },
  {
   "cell_type": "code",
   "execution_count": 2,
   "metadata": {},
   "outputs": [],
   "source": [
    "\n"
   ]
  },
  {
   "cell_type": "code",
   "execution_count": null,
   "metadata": {},
   "outputs": [],
   "source": []
  }
 ],
 "metadata": {
  "kernelspec": {
   "display_name": "Python 3",
   "language": "python",
   "name": "python3"
  },
  "language_info": {
   "codemirror_mode": {
    "name": "ipython",
    "version": 3
   },
   "file_extension": ".py",
   "mimetype": "text/x-python",
   "name": "python",
   "nbconvert_exporter": "python",
   "pygments_lexer": "ipython3",
   "version": "3.7.10"
  }
 },
 "nbformat": 4,
 "nbformat_minor": 4
}
